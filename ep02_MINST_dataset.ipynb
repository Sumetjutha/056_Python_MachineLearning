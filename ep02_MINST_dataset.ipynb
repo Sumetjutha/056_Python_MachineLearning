{
 "cells": [
  {
   "cell_type": "code",
   "execution_count": 2,
   "metadata": {},
   "outputs": [],
   "source": [
    "from sklearn import datasets\n",
    "import pandas as pd"
   ]
  },
  {
   "cell_type": "code",
   "execution_count": 3,
   "metadata": {},
   "outputs": [],
   "source": [
    "digit_dataset = datasets.load_digits()"
   ]
  },
  {
   "cell_type": "code",
   "execution_count": 4,
   "metadata": {},
   "outputs": [
    {
     "name": "stdout",
     "output_type": "stream",
     "text": [
      "dict_keys(['data', 'target', 'frame', 'feature_names', 'target_names', 'images', 'DESCR'])\n"
     ]
    }
   ],
   "source": [
    "print(digit_dataset.keys())"
   ]
  },
  {
   "cell_type": "code",
   "execution_count": 9,
   "metadata": {},
   "outputs": [
    {
     "name": "stdout",
     "output_type": "stream",
     "text": [
      ".. _digits_dataset:\n",
      "\n",
      "Optical recognition of handwritten digits dataset\n",
      "--------------------------------------------------\n",
      "\n",
      "**Data Set Characteristics:**\n",
      "\n",
      "    :Number of Instances: 1797\n",
      "    :Number of Attributes: 64\n",
      "    :Attribute Information: 8x8 image of integer pixels in the range 0..16.\n",
      "    :Missing Attribute Values: None\n",
      "    :Creator: E. Alpaydin (alpaydin '@' boun.edu.tr)\n",
      "    :Date: July; 1998\n",
      "\n",
      "This is a copy of the test set of the UCI ML hand-written digits datasets\n",
      "https://archive.ics.uci.edu/ml/datasets/Optical+Recognition+of+Handwritten+Digits\n",
      "\n",
      "The data set contains images of hand-written digits: 10 classes where\n",
      "each class refers to a digit.\n",
      "\n",
      "Preprocessing programs made available by NIST were used to extract\n",
      "normalized bitmaps of handwritten digits from a preprinted form. From a\n",
      "total of 43 people, 30 contributed to the training set and different 13\n",
      "to the test set. 32x32 bitmaps are divided into nonoverlapping blocks of\n",
      "4x4 and the number of on pixels are counted in each block. This generates\n",
      "an input matrix of 8x8 where each element is an integer in the range\n",
      "0..16. This reduces dimensionality and gives invariance to small\n",
      "distortions.\n",
      "\n",
      "For info on NIST preprocessing routines, see M. D. Garris, J. L. Blue, G.\n",
      "T. Candela, D. L. Dimmick, J. Geist, P. J. Grother, S. A. Janet, and C.\n",
      "L. Wilson, NIST Form-Based Handprint Recognition System, NISTIR 5469,\n",
      "1994.\n",
      "\n",
      ".. topic:: References\n",
      "\n",
      "  - C. Kaynak (1995) Methods of Combining Multiple Classifiers and Their\n",
      "    Applications to Handwritten Digit Recognition, MSc Thesis, Institute of\n",
      "    Graduate Studies in Science and Engineering, Bogazici University.\n",
      "  - E. Alpaydin, C. Kaynak (1998) Cascading Classifiers, Kybernetika.\n",
      "  - Ken Tang and Ponnuthurai N. Suganthan and Xi Yao and A. Kai Qin.\n",
      "    Linear dimensionalityreduction using relevance weighted LDA. School of\n",
      "    Electrical and Electronic Engineering Nanyang Technological University.\n",
      "    2005.\n",
      "  - Claudio Gentile. A New Approximate Maximal Margin Classification\n",
      "    Algorithm. NIPS. 2000.\n",
      "\n"
     ]
    }
   ],
   "source": [
    "print(digit_dataset['DESCR'])"
   ]
  },
  {
   "cell_type": "code",
   "execution_count": 10,
   "metadata": {},
   "outputs": [
    {
     "name": "stdout",
     "output_type": "stream",
     "text": [
      "[[ 0.  0.  5. ...  0.  0.  0.]\n",
      " [ 0.  0.  0. ... 10.  0.  0.]\n",
      " [ 0.  0.  0. ... 16.  9.  0.]\n",
      " ...\n",
      " [ 0.  0.  1. ...  6.  0.  0.]\n",
      " [ 0.  0.  2. ... 12.  0.  0.]\n",
      " [ 0.  0. 10. ... 12.  1.  0.]]\n"
     ]
    }
   ],
   "source": [
    "print(digit_dataset['data'])"
   ]
  },
  {
   "cell_type": "code",
   "execution_count": 11,
   "metadata": {},
   "outputs": [
    {
     "name": "stdout",
     "output_type": "stream",
     "text": [
      "(1797, 64)\n"
     ]
    }
   ],
   "source": [
    "print(digit_dataset['data'].shape)"
   ]
  },
  {
   "cell_type": "code",
   "execution_count": 12,
   "metadata": {},
   "outputs": [
    {
     "name": "stdout",
     "output_type": "stream",
     "text": [
      "(1797, 8, 8)\n"
     ]
    }
   ],
   "source": [
    "print(digit_dataset['images'].shape)"
   ]
  },
  {
   "cell_type": "code",
   "execution_count": 13,
   "metadata": {},
   "outputs": [
    {
     "name": "stdout",
     "output_type": "stream",
     "text": [
      "[0 1 2 3 4 5 6 7 8 9]\n"
     ]
    }
   ],
   "source": [
    "print(digit_dataset['target_names'])"
   ]
  },
  {
   "cell_type": "code",
   "execution_count": 14,
   "metadata": {},
   "outputs": [
    {
     "name": "stdout",
     "output_type": "stream",
     "text": [
      "[[ 0.  0.  5. 13.  9.  1.  0.  0.]\n",
      " [ 0.  0. 13. 15. 10. 15.  5.  0.]\n",
      " [ 0.  3. 15.  2.  0. 11.  8.  0.]\n",
      " [ 0.  4. 12.  0.  0.  8.  8.  0.]\n",
      " [ 0.  5.  8.  0.  0.  9.  8.  0.]\n",
      " [ 0.  4. 11.  0.  1. 12.  7.  0.]\n",
      " [ 0.  2. 14.  5. 10. 12.  0.  0.]\n",
      " [ 0.  0.  6. 13. 10.  0.  0.  0.]]\n"
     ]
    }
   ],
   "source": [
    "print(digit_dataset['images'][0])"
   ]
  },
  {
   "cell_type": "code",
   "execution_count": 15,
   "metadata": {},
   "outputs": [
    {
     "name": "stdout",
     "output_type": "stream",
     "text": [
      "(8, 8)\n"
     ]
    }
   ],
   "source": [
    "print(digit_dataset['images'][0].shape)"
   ]
  },
  {
   "cell_type": "code",
   "execution_count": 16,
   "metadata": {},
   "outputs": [
    {
     "name": "stdout",
     "output_type": "stream",
     "text": [
      "[[[ 0.  0.  5. 13.  9.  1.  0.  0.]\n",
      "  [ 0.  0. 13. 15. 10. 15.  5.  0.]\n",
      "  [ 0.  3. 15.  2.  0. 11.  8.  0.]\n",
      "  [ 0.  4. 12.  0.  0.  8.  8.  0.]\n",
      "  [ 0.  5.  8.  0.  0.  9.  8.  0.]\n",
      "  [ 0.  4. 11.  0.  1. 12.  7.  0.]\n",
      "  [ 0.  2. 14.  5. 10. 12.  0.  0.]\n",
      "  [ 0.  0.  6. 13. 10.  0.  0.  0.]]\n",
      "\n",
      " [[ 0.  0.  0. 12. 13.  5.  0.  0.]\n",
      "  [ 0.  0.  0. 11. 16.  9.  0.  0.]\n",
      "  [ 0.  0.  3. 15. 16.  6.  0.  0.]\n",
      "  [ 0.  7. 15. 16. 16.  2.  0.  0.]\n",
      "  [ 0.  0.  1. 16. 16.  3.  0.  0.]\n",
      "  [ 0.  0.  1. 16. 16.  6.  0.  0.]\n",
      "  [ 0.  0.  1. 16. 16.  6.  0.  0.]\n",
      "  [ 0.  0.  0. 11. 16. 10.  0.  0.]]\n",
      "\n",
      " [[ 0.  0.  0.  4. 15. 12.  0.  0.]\n",
      "  [ 0.  0.  3. 16. 15. 14.  0.  0.]\n",
      "  [ 0.  0.  8. 13.  8. 16.  0.  0.]\n",
      "  [ 0.  0.  1.  6. 15. 11.  0.  0.]\n",
      "  [ 0.  1.  8. 13. 15.  1.  0.  0.]\n",
      "  [ 0.  9. 16. 16.  5.  0.  0.  0.]\n",
      "  [ 0.  3. 13. 16. 16. 11.  5.  0.]\n",
      "  [ 0.  0.  0.  3. 11. 16.  9.  0.]]\n",
      "\n",
      " [[ 0.  0.  7. 15. 13.  1.  0.  0.]\n",
      "  [ 0.  8. 13.  6. 15.  4.  0.  0.]\n",
      "  [ 0.  2.  1. 13. 13.  0.  0.  0.]\n",
      "  [ 0.  0.  2. 15. 11.  1.  0.  0.]\n",
      "  [ 0.  0.  0.  1. 12. 12.  1.  0.]\n",
      "  [ 0.  0.  0.  0.  1. 10.  8.  0.]\n",
      "  [ 0.  0.  8.  4.  5. 14.  9.  0.]\n",
      "  [ 0.  0.  7. 13. 13.  9.  0.  0.]]\n",
      "\n",
      " [[ 0.  0.  0.  1. 11.  0.  0.  0.]\n",
      "  [ 0.  0.  0.  7.  8.  0.  0.  0.]\n",
      "  [ 0.  0.  1. 13.  6.  2.  2.  0.]\n",
      "  [ 0.  0.  7. 15.  0.  9.  8.  0.]\n",
      "  [ 0.  5. 16. 10.  0. 16.  6.  0.]\n",
      "  [ 0.  4. 15. 16. 13. 16.  1.  0.]\n",
      "  [ 0.  0.  0.  3. 15. 10.  0.  0.]\n",
      "  [ 0.  0.  0.  2. 16.  4.  0.  0.]]\n",
      "\n",
      " [[ 0.  0. 12. 10.  0.  0.  0.  0.]\n",
      "  [ 0.  0. 14. 16. 16. 14.  0.  0.]\n",
      "  [ 0.  0. 13. 16. 15. 10.  1.  0.]\n",
      "  [ 0.  0. 11. 16. 16.  7.  0.  0.]\n",
      "  [ 0.  0.  0.  4.  7. 16.  7.  0.]\n",
      "  [ 0.  0.  0.  0.  4. 16.  9.  0.]\n",
      "  [ 0.  0.  5.  4. 12. 16.  4.  0.]\n",
      "  [ 0.  0.  9. 16. 16. 10.  0.  0.]]\n",
      "\n",
      " [[ 0.  0.  0. 12. 13.  0.  0.  0.]\n",
      "  [ 0.  0.  5. 16.  8.  0.  0.  0.]\n",
      "  [ 0.  0. 13. 16.  3.  0.  0.  0.]\n",
      "  [ 0.  0. 14. 13.  0.  0.  0.  0.]\n",
      "  [ 0.  0. 15. 12.  7.  2.  0.  0.]\n",
      "  [ 0.  0. 13. 16. 13. 16.  3.  0.]\n",
      "  [ 0.  0.  7. 16. 11. 15.  8.  0.]\n",
      "  [ 0.  0.  1.  9. 15. 11.  3.  0.]]\n",
      "\n",
      " [[ 0.  0.  7.  8. 13. 16. 15.  1.]\n",
      "  [ 0.  0.  7.  7.  4. 11. 12.  0.]\n",
      "  [ 0.  0.  0.  0.  8. 13.  1.  0.]\n",
      "  [ 0.  4.  8.  8. 15. 15.  6.  0.]\n",
      "  [ 0.  2. 11. 15. 15.  4.  0.  0.]\n",
      "  [ 0.  0.  0. 16.  5.  0.  0.  0.]\n",
      "  [ 0.  0.  9. 15.  1.  0.  0.  0.]\n",
      "  [ 0.  0. 13.  5.  0.  0.  0.  0.]]\n",
      "\n",
      " [[ 0.  0.  9. 14.  8.  1.  0.  0.]\n",
      "  [ 0.  0. 12. 14. 14. 12.  0.  0.]\n",
      "  [ 0.  0.  9. 10.  0. 15.  4.  0.]\n",
      "  [ 0.  0.  3. 16. 12. 14.  2.  0.]\n",
      "  [ 0.  0.  4. 16. 16.  2.  0.  0.]\n",
      "  [ 0.  3. 16.  8. 10. 13.  2.  0.]\n",
      "  [ 0.  1. 15.  1.  3. 16.  8.  0.]\n",
      "  [ 0.  0. 11. 16. 15. 11.  1.  0.]]\n",
      "\n",
      " [[ 0.  0. 11. 12.  0.  0.  0.  0.]\n",
      "  [ 0.  2. 16. 16. 16. 13.  0.  0.]\n",
      "  [ 0.  3. 16. 12. 10. 14.  0.  0.]\n",
      "  [ 0.  1. 16.  1. 12. 15.  0.  0.]\n",
      "  [ 0.  0. 13. 16.  9. 15.  2.  0.]\n",
      "  [ 0.  0.  0.  3.  0.  9. 11.  0.]\n",
      "  [ 0.  0.  0.  0.  9. 15.  4.  0.]\n",
      "  [ 0.  0.  9. 12. 13.  3.  0.  0.]]]\n"
     ]
    }
   ],
   "source": [
    "print(digit_dataset['images'][0:10])"
   ]
  },
  {
   "cell_type": "code",
   "execution_count": 17,
   "metadata": {},
   "outputs": [
    {
     "name": "stdout",
     "output_type": "stream",
     "text": [
      "(10, 8, 8)\n"
     ]
    }
   ],
   "source": [
    "print(digit_dataset['images'][0:10].shape)"
   ]
  }
 ],
 "metadata": {
  "kernelspec": {
   "display_name": "Python 3",
   "language": "python",
   "name": "python3"
  },
  "language_info": {
   "codemirror_mode": {
    "name": "ipython",
    "version": 3
   },
   "file_extension": ".py",
   "mimetype": "text/x-python",
   "name": "python",
   "nbconvert_exporter": "python",
   "pygments_lexer": "ipython3",
   "version": "3.9.13"
  },
  "orig_nbformat": 4
 },
 "nbformat": 4,
 "nbformat_minor": 2
}
